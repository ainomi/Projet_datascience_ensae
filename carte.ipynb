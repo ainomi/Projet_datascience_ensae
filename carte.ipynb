{
 "cells": [
  {
   "cell_type": "code",
   "execution_count": 4,
   "metadata": {},
   "outputs": [],
   "source": [
    "import pandas as pd\n",
    "import s3fs\n",
    "import folium\n"
   ]
  },
  {
   "cell_type": "code",
   "execution_count": 5,
   "metadata": {},
   "outputs": [
    {
     "name": "stdout",
     "output_type": "stream",
     "text": [
      "Requirement already satisfied: geopy in /opt/conda/lib/python3.12/site-packages (2.4.1)\n",
      "Requirement already satisfied: geographiclib<3,>=1.52 in /opt/conda/lib/python3.12/site-packages (from geopy) (2.0)\n",
      "Note: you may need to restart the kernel to use updated packages.\n"
     ]
    }
   ],
   "source": [
    "pip install geopy"
   ]
  },
  {
   "cell_type": "code",
   "execution_count": 6,
   "metadata": {},
   "outputs": [
    {
     "name": "stdout",
     "output_type": "stream",
     "text": [
      "Requirement already satisfied: folium in /opt/conda/lib/python3.12/site-packages (0.18.0)\n",
      "Requirement already satisfied: branca>=0.6.0 in /opt/conda/lib/python3.12/site-packages (from folium) (0.7.2)\n",
      "Requirement already satisfied: jinja2>=2.9 in /opt/conda/lib/python3.12/site-packages (from folium) (3.1.4)\n",
      "Requirement already satisfied: numpy in /opt/conda/lib/python3.12/site-packages (from folium) (2.2.0)\n",
      "Requirement already satisfied: requests in /opt/conda/lib/python3.12/site-packages (from folium) (2.32.3)\n",
      "Requirement already satisfied: xyzservices in /opt/conda/lib/python3.12/site-packages (from folium) (2024.9.0)\n",
      "Requirement already satisfied: MarkupSafe>=2.0 in /opt/conda/lib/python3.12/site-packages (from jinja2>=2.9->folium) (3.0.2)\n",
      "Requirement already satisfied: charset_normalizer<4,>=2 in /opt/conda/lib/python3.12/site-packages (from requests->folium) (3.4.0)\n",
      "Requirement already satisfied: idna<4,>=2.5 in /opt/conda/lib/python3.12/site-packages (from requests->folium) (3.10)\n",
      "Requirement already satisfied: urllib3<3,>=1.21.1 in /opt/conda/lib/python3.12/site-packages (from requests->folium) (2.2.3)\n",
      "Requirement already satisfied: certifi>=2017.4.17 in /opt/conda/lib/python3.12/site-packages (from requests->folium) (2024.8.30)\n",
      "Note: you may need to restart the kernel to use updated packages.\n"
     ]
    }
   ],
   "source": [
    "pip install folium"
   ]
  },
  {
   "cell_type": "code",
   "execution_count": 7,
   "metadata": {},
   "outputs": [],
   "source": [
    "df = pd.read_csv('post_processed_listings.csv')"
   ]
  },
  {
   "cell_type": "code",
   "execution_count": 8,
   "metadata": {},
   "outputs": [
    {
     "data": {
      "text/html": [
       "<div>\n",
       "<style scoped>\n",
       "    .dataframe tbody tr th:only-of-type {\n",
       "        vertical-align: middle;\n",
       "    }\n",
       "\n",
       "    .dataframe tbody tr th {\n",
       "        vertical-align: top;\n",
       "    }\n",
       "\n",
       "    .dataframe thead th {\n",
       "        text-align: right;\n",
       "    }\n",
       "</style>\n",
       "<table border=\"1\" class=\"dataframe\">\n",
       "  <thead>\n",
       "    <tr style=\"text-align: right;\">\n",
       "      <th></th>\n",
       "      <th>id</th>\n",
       "      <th>Type</th>\n",
       "      <th>Nb_chambre</th>\n",
       "      <th>loc</th>\n",
       "      <th>surface</th>\n",
       "      <th>prix</th>\n",
       "    </tr>\n",
       "  </thead>\n",
       "  <tbody>\n",
       "    <tr>\n",
       "      <th>0</th>\n",
       "      <td>apimo-85473173</td>\n",
       "      <td>Appartement</td>\n",
       "      <td>1</td>\n",
       "      <td>Châtelet</td>\n",
       "      <td>29</td>\n",
       "      <td>364000</td>\n",
       "    </tr>\n",
       "    <tr>\n",
       "      <th>1</th>\n",
       "      <td>hektor-Les-4-Quartiers-383</td>\n",
       "      <td>Appartement</td>\n",
       "      <td>1</td>\n",
       "      <td>Châtelet</td>\n",
       "      <td>23</td>\n",
       "      <td>301000</td>\n",
       "    </tr>\n",
       "    <tr>\n",
       "      <th>2</th>\n",
       "      <td>hektor-PARISLUXURYHOMES-4007</td>\n",
       "      <td>Appartement</td>\n",
       "      <td>5</td>\n",
       "      <td>Palais Royal</td>\n",
       "      <td>106</td>\n",
       "      <td>2490000</td>\n",
       "    </tr>\n",
       "    <tr>\n",
       "      <th>3</th>\n",
       "      <td>ag754594-448898324</td>\n",
       "      <td>Studio</td>\n",
       "      <td>1</td>\n",
       "      <td>Saint-Germain</td>\n",
       "      <td>27</td>\n",
       "      <td>365000</td>\n",
       "    </tr>\n",
       "    <tr>\n",
       "      <th>4</th>\n",
       "      <td>keller-williams-1-34_1_53-180645</td>\n",
       "      <td>Appartement</td>\n",
       "      <td>2</td>\n",
       "      <td>Vendôme</td>\n",
       "      <td>67</td>\n",
       "      <td>1190000</td>\n",
       "    </tr>\n",
       "  </tbody>\n",
       "</table>\n",
       "</div>"
      ],
      "text/plain": [
       "                                 id         Type  Nb_chambre            loc  \\\n",
       "0                    apimo-85473173  Appartement           1       Châtelet   \n",
       "1        hektor-Les-4-Quartiers-383  Appartement           1       Châtelet   \n",
       "2      hektor-PARISLUXURYHOMES-4007  Appartement           5   Palais Royal   \n",
       "3                ag754594-448898324       Studio           1  Saint-Germain   \n",
       "4  keller-williams-1-34_1_53-180645  Appartement           2        Vendôme   \n",
       "\n",
       "   surface     prix  \n",
       "0       29   364000  \n",
       "1       23   301000  \n",
       "2      106  2490000  \n",
       "3       27   365000  \n",
       "4       67  1190000  "
      ]
     },
     "execution_count": 8,
     "metadata": {},
     "output_type": "execute_result"
    }
   ],
   "source": [
    "df.head()"
   ]
  },
  {
   "cell_type": "code",
   "execution_count": 9,
   "metadata": {},
   "outputs": [
    {
     "data": {
      "text/plain": [
       "0         Châtelet\n",
       "1         Châtelet\n",
       "2     Palais Royal\n",
       "3    Saint-Germain\n",
       "4          Vendôme\n",
       "Name: loc, dtype: object"
      ]
     },
     "execution_count": 9,
     "metadata": {},
     "output_type": "execute_result"
    }
   ],
   "source": [
    "# Extraire la colonne contenant les informations sur les quartiers ou adresses\n",
    "# En me basant sur le nom de la colonne, je vais essayer de cibler la bonne colonne\n",
    "df_quartiers = df.iloc[:, 3]\n",
    "# Afficher les premières valeurs de cette colonne pour vérifier\n",
    "df_quartiers.head()"
   ]
  },
  {
   "cell_type": "code",
   "execution_count": 10,
   "metadata": {},
   "outputs": [
    {
     "name": "stdout",
     "output_type": "stream",
     "text": [
      "Paris 1er Arrondissement, Paris, Île-de-France, France métropolitaine, 75001, France\n"
     ]
    }
   ],
   "source": [
    "### EXTRAIRE LES COORDONNÉES GRAPHIQUES D'UNE LOCALISATION ###\n",
    "import geopy\n",
    "from geopy.geocoders import Nominatim\n",
    "# Création d'un objet géocodeur Nominatim\n",
    "geolocator = Nominatim(user_agent=\"my_geocoder\")\n",
    "# Géocodage d'une adresse\n",
    "location = geolocator.geocode(\"75001 Paris 1er\")\n",
    "# Affichage des informations de localisation\n",
    "print(location)"
   ]
  },
  {
   "cell_type": "code",
   "execution_count": 11,
   "metadata": {},
   "outputs": [
    {
     "name": "stdout",
     "output_type": "stream",
     "text": [
      "['Châtelet' 'Palais Royal' 'Saint-Germain' 'Vendôme' 'Gaillon'\n",
      " \"Saint-Thomas d'Aquin\" '75001 Paris 1er' 'Sentier' 'Montorgueil'\n",
      " '75002 Paris 2e' 'Arts-et-Métiers' 'Sainte-Avoye' 'Archives'\n",
      " '75003 Paris 3e' 'Enfants Rouges' 'République' 'Saint-Merri' 'Arsenal'\n",
      " '75004 Paris 4e' 'Les Iles' 'Saint-Gervais' '75000 Paris' 'Monge'\n",
      " 'Jardin des Plantes' 'Val de Grâce' 'Sorbonne' 'Rennes' 'Montparnasse'\n",
      " 'Saint-Germain des Près' 'Odéon' 'Saint-Placide' 'Notre Dame des Champs'\n",
      " '75006 Paris 6e' 'Saint-Michel' 'Hoche Friedland' 'Elysée' 'Monceau'\n",
      " \"Triangle d'Or\" 'Europe' 'Saint-Philippe du Roule' 'Mairie'\n",
      " '75008 Paris 8e' 'Clichy' 'Grands Boulevards' 'Lorette' 'Opéra'\n",
      " 'Trudaine' 'Porte Saint-Martin' '75009 Paris 9e' 'Saint-Vincent de Paul'\n",
      " \"Château d'Eau\" 'Goncourt' 'Canal Saint-Martin' 'Louis Blanc'\n",
      " 'Belleville' '75010 Paris 10e' 'Nation' 'Léon-Blum' '75011 Paris 11e'\n",
      " 'Bastille' '75012 Paris 12e' 'Bel-Air' 'Aligre' 'Vallée de Fecamp'\n",
      " 'Jardin de Reuilly' 'Bercy' 'Olympiades' 'Croulebarbe' 'Bièvre Sud'\n",
      " 'Patay' 'Nationale' 'Salpétrière' 'Butte-aux-Cailles' 'Bibliothèque'\n",
      " '75013 Paris 13e' '94200 Ivry-sur-Seine' 'Pernety' 'Jean Moulin' 'Didot'\n",
      " 'Montsouris' '75014 Paris 14e' 'Mouton' 'Alleray' 'Cambronne' 'Vaugirard'\n",
      " '75015 Paris 15e' 'Saint-Lambert' 'Emeriau' 'Citroën' 'Violet' 'Dupleix'\n",
      " 'Georges Brassens' 'Pasteur' 'Breteuil' '92170 Vanves'\n",
      " 'Porte de Saint-Cloud' 'Chaillot' 'Muette-Nord' 'Dauphine' 'Passy'\n",
      " 'Auteuil-Nord' '75016 Paris 16e' '75116 Paris 16e' 'Champerret'\n",
      " 'Epinettes' 'Legendre' 'Pereire' 'Batignolles' 'Courcelles'\n",
      " '75017 Paris 17e' 'La Fourche' 'Ternes' 'Porte de Clichy'\n",
      " 'Grandes Carrières' 'Jules Joffrin' 'La Chapelle' 'Montmartre' 'Simplon'\n",
      " 'Barbès' 'Porte de la Chapelle' 'Porte de Clignancourt' '75018 Paris 18e'\n",
      " 'Porte des Lilas' 'Danube' 'Secrétan' '75019 Paris 19e' 'La Villette'\n",
      " 'Flandre' 'Bassin de la Villette' 'Jourdain' 'Mouzaia' 'Buttes Chaumont'\n",
      " 'Porte de la Villette' 'Télégraphe' 'Gambetta' '75020 Paris 20e'\n",
      " 'Ménilmontant' 'Père Lachaise' 'Plaine' 'Saint-Blaise']\n"
     ]
    },
    {
     "data": {
      "text/plain": [
       "140"
      ]
     },
     "execution_count": 11,
     "metadata": {},
     "output_type": "execute_result"
    }
   ],
   "source": [
    "### Créer une liste unique des quartiers/adresses ###. --> prendre la liste clean que Maxime fait \n",
    "# Extraire la colonne contenant les quartiers/adresses\n",
    "df_quartiers = df.iloc[:, 3]\n",
    "# Créer une liste des adresses uniques\n",
    "list_quartiers_uniques = df_quartiers.unique()\n",
    "# Afficher les premières adresses uniques pour vérification\n",
    "print(list_quartiers_uniques)  # Affiche les 10 premières adresses uniques\n",
    "len(list_quartiers_uniques)\n",
    "\n"
   ]
  },
  {
   "cell_type": "code",
   "execution_count": 17,
   "metadata": {},
   "outputs": [
    {
     "name": "stdout",
     "output_type": "stream",
     "text": [
      "\n",
      "Coordonnées des 3 premières adresses :\n",
      "Adresse: 75003 Paris 3e, Latitude: 48.864212, Longitude: 2.360936\n",
      "Adresse: 75013 Paris 13e, Latitude: 48.8290105, Longitude: 2.3636124\n",
      "Adresse: 75010 Paris 10e, Latitude: 48.876225, Longitude: 2.3595209\n"
     ]
    }
   ],
   "source": [
    "### PRENDRE *TOUTES* LES COORDONNÉES GRAPHIQUES ### --> pour l'instant j'en rentre 3 à la mains pour éviter les problèmes\n",
    "from geopy.geocoders import Nominatim\n",
    "import time\n",
    "\n",
    "# Créer un objet géocodeur Nominatim\n",
    "geolocator = Nominatim(user_agent=\"my_geocoder\")\n",
    "\n",
    "# Fonction pour obtenir les coordonnées géographiques d'une adresse\n",
    "def obtenir_coordonnees(adresse):\n",
    "    try:\n",
    "        location = geolocator.geocode(adresse, timeout=5)\n",
    "        if location:\n",
    "            return location.latitude, location.longitude\n",
    "        else:\n",
    "            return None, None\n",
    "    except Exception as e:\n",
    "        print(f\"Erreur pour {adresse}: {e}\")\n",
    "        return None, None\n",
    "\n",
    "# Extraire seulement les premières adresses uniques\n",
    "list_quartiers_uniques_3 = ['75003 Paris 3e', '75013 Paris 13e', '75010 Paris 10e'] # ENTRER À LA MAIN EN ATTENDANT\n",
    "# Créer un dictionnaire pour stocker les adresses et leurs coordonnées\n",
    "coordonnees_dict = {}\n",
    "\n",
    "# Obtenir les coordonnées pour les 10 premières adresses\n",
    "for adresse in list_quartiers_uniques_3:\n",
    "    lat, lon = obtenir_coordonnees(adresse)\n",
    "    coordonnees_dict[adresse] = (lat, lon)\n",
    "    \n",
    "    # Ajouter une pause pour éviter un blocage par le serveur\n",
    "    time.sleep(1)  # Pause de 1 seconde entre les requêtes\n",
    "\n",
    "# Afficher les coordonnées pour les 3 adresses\n",
    "print(\"\\nCoordonnées des 3 premières adresses :\")\n",
    "for adresse, coord in coordonnees_dict.items():\n",
    "    print(f\"Adresse: {adresse}, Latitude: {coord[0]}, Longitude: {coord[1]}\")\n"
   ]
  },
  {
   "cell_type": "code",
   "execution_count": 12,
   "metadata": {},
   "outputs": [
    {
     "name": "stdout",
     "output_type": "stream",
     "text": [
      "Carte créée : carte_paris_points.html\n"
     ]
    }
   ],
   "source": [
    "### CREATION DE LA CARTE ###\n",
    "\n",
    "# Coordonnées des adresses\n",
    "coordonnees = [\n",
    "    {\"adresse\": \"75003 Paris 3e\", \"latitude\": 48.864212, \"longitude\": 2.360936},\n",
    "    {\"adresse\": \"75013 Paris 13e\", \"latitude\": 48.8290105, \"longitude\": 2.3636124},\n",
    "    {\"adresse\": \"75010 Paris 10e\", \"latitude\": 48.876225, \"longitude\": 2.3595209},\n",
    "]\n",
    "\n",
    "# Initialiser la carte centrée sur Paris\n",
    "carte = folium.Map(location=[48.8566, 2.3522], zoom_start=12)\n",
    "\n",
    "# Ajouter des points sur la carte pour les adresses avec coordonnées\n",
    "for lieu in coordonnees:\n",
    "    if lieu[\"latitude\"] is not None and lieu[\"longitude\"] is not None:\n",
    "        folium.Marker(\n",
    "            location=[lieu[\"latitude\"], lieu[\"longitude\"]],\n",
    "            popup=lieu[\"adresse\"],  # Texte affiché lorsqu'on clique sur le point\n",
    "            icon=folium.Icon(color=\"blue\", icon=\"info-sign\")\n",
    "        ).add_to(carte)\n",
    "\n",
    "# Sauvegarder la carte dans un fichier HTML\n",
    "carte.save(\"carte_paris_points.html\")\n",
    "print(\"Carte créée : carte_paris_points.html\")\n",
    "\n"
   ]
  },
  {
   "cell_type": "code",
   "execution_count": 13,
   "metadata": {},
   "outputs": [
    {
     "data": {
      "text/html": [
       "<div style=\"width:100%;\"><div style=\"position:relative;width:100%;height:0;padding-bottom:60%;\"><span style=\"color:#565656\">Make this Notebook Trusted to load map: File -> Trust Notebook</span><iframe srcdoc=\"&lt;!DOCTYPE html&gt;\n",
       "&lt;html&gt;\n",
       "&lt;head&gt;\n",
       "    \n",
       "    &lt;meta http-equiv=&quot;content-type&quot; content=&quot;text/html; charset=UTF-8&quot; /&gt;\n",
       "    \n",
       "        &lt;script&gt;\n",
       "            L_NO_TOUCH = false;\n",
       "            L_DISABLE_3D = false;\n",
       "        &lt;/script&gt;\n",
       "    \n",
       "    &lt;style&gt;html, body {width: 100%;height: 100%;margin: 0;padding: 0;}&lt;/style&gt;\n",
       "    &lt;style&gt;#map {position:absolute;top:0;bottom:0;right:0;left:0;}&lt;/style&gt;\n",
       "    &lt;script src=&quot;https://cdn.jsdelivr.net/npm/leaflet@1.9.3/dist/leaflet.js&quot;&gt;&lt;/script&gt;\n",
       "    &lt;script src=&quot;https://code.jquery.com/jquery-3.7.1.min.js&quot;&gt;&lt;/script&gt;\n",
       "    &lt;script src=&quot;https://cdn.jsdelivr.net/npm/bootstrap@5.2.2/dist/js/bootstrap.bundle.min.js&quot;&gt;&lt;/script&gt;\n",
       "    &lt;script src=&quot;https://cdnjs.cloudflare.com/ajax/libs/Leaflet.awesome-markers/2.0.2/leaflet.awesome-markers.js&quot;&gt;&lt;/script&gt;\n",
       "    &lt;link rel=&quot;stylesheet&quot; href=&quot;https://cdn.jsdelivr.net/npm/leaflet@1.9.3/dist/leaflet.css&quot;/&gt;\n",
       "    &lt;link rel=&quot;stylesheet&quot; href=&quot;https://cdn.jsdelivr.net/npm/bootstrap@5.2.2/dist/css/bootstrap.min.css&quot;/&gt;\n",
       "    &lt;link rel=&quot;stylesheet&quot; href=&quot;https://netdna.bootstrapcdn.com/bootstrap/3.0.0/css/bootstrap-glyphicons.css&quot;/&gt;\n",
       "    &lt;link rel=&quot;stylesheet&quot; href=&quot;https://cdn.jsdelivr.net/npm/@fortawesome/fontawesome-free@6.2.0/css/all.min.css&quot;/&gt;\n",
       "    &lt;link rel=&quot;stylesheet&quot; href=&quot;https://cdnjs.cloudflare.com/ajax/libs/Leaflet.awesome-markers/2.0.2/leaflet.awesome-markers.css&quot;/&gt;\n",
       "    &lt;link rel=&quot;stylesheet&quot; href=&quot;https://cdn.jsdelivr.net/gh/python-visualization/folium/folium/templates/leaflet.awesome.rotate.min.css&quot;/&gt;\n",
       "    \n",
       "            &lt;meta name=&quot;viewport&quot; content=&quot;width=device-width,\n",
       "                initial-scale=1.0, maximum-scale=1.0, user-scalable=no&quot; /&gt;\n",
       "            &lt;style&gt;\n",
       "                #map_a5832de437e3d83ec11665eb3d45dfd1 {\n",
       "                    position: relative;\n",
       "                    width: 100.0%;\n",
       "                    height: 100.0%;\n",
       "                    left: 0.0%;\n",
       "                    top: 0.0%;\n",
       "                }\n",
       "                .leaflet-container { font-size: 1rem; }\n",
       "            &lt;/style&gt;\n",
       "        \n",
       "&lt;/head&gt;\n",
       "&lt;body&gt;\n",
       "    \n",
       "    \n",
       "            &lt;div class=&quot;folium-map&quot; id=&quot;map_a5832de437e3d83ec11665eb3d45dfd1&quot; &gt;&lt;/div&gt;\n",
       "        \n",
       "&lt;/body&gt;\n",
       "&lt;script&gt;\n",
       "    \n",
       "    \n",
       "            var map_a5832de437e3d83ec11665eb3d45dfd1 = L.map(\n",
       "                &quot;map_a5832de437e3d83ec11665eb3d45dfd1&quot;,\n",
       "                {\n",
       "                    center: [48.8566, 2.3522],\n",
       "                    crs: L.CRS.EPSG3857,\n",
       "                    zoom: 12,\n",
       "                    zoomControl: true,\n",
       "                    preferCanvas: false,\n",
       "                }\n",
       "            );\n",
       "\n",
       "            \n",
       "\n",
       "        \n",
       "    \n",
       "            var tile_layer_99258d4a0cff3b7650130779ade03e01 = L.tileLayer(\n",
       "                &quot;https://tile.openstreetmap.org/{z}/{x}/{y}.png&quot;,\n",
       "                {&quot;attribution&quot;: &quot;\\u0026copy; \\u003ca href=\\&quot;https://www.openstreetmap.org/copyright\\&quot;\\u003eOpenStreetMap\\u003c/a\\u003e contributors&quot;, &quot;detectRetina&quot;: false, &quot;maxNativeZoom&quot;: 19, &quot;maxZoom&quot;: 19, &quot;minZoom&quot;: 0, &quot;noWrap&quot;: false, &quot;opacity&quot;: 1, &quot;subdomains&quot;: &quot;abc&quot;, &quot;tms&quot;: false}\n",
       "            );\n",
       "        \n",
       "    \n",
       "            tile_layer_99258d4a0cff3b7650130779ade03e01.addTo(map_a5832de437e3d83ec11665eb3d45dfd1);\n",
       "        \n",
       "    \n",
       "            var marker_9c699600a05de67b1d6fd2b8a87db546 = L.marker(\n",
       "                [48.864212, 2.360936],\n",
       "                {}\n",
       "            ).addTo(map_a5832de437e3d83ec11665eb3d45dfd1);\n",
       "        \n",
       "    \n",
       "            var icon_5ad428a6290c2f65c37d9cf62fce7fbf = L.AwesomeMarkers.icon(\n",
       "                {&quot;extraClasses&quot;: &quot;fa-rotate-0&quot;, &quot;icon&quot;: &quot;info-sign&quot;, &quot;iconColor&quot;: &quot;white&quot;, &quot;markerColor&quot;: &quot;blue&quot;, &quot;prefix&quot;: &quot;glyphicon&quot;}\n",
       "            );\n",
       "            marker_9c699600a05de67b1d6fd2b8a87db546.setIcon(icon_5ad428a6290c2f65c37d9cf62fce7fbf);\n",
       "        \n",
       "    \n",
       "        var popup_8643751f33284724ca21dcf18d080784 = L.popup({&quot;maxWidth&quot;: &quot;100%&quot;});\n",
       "\n",
       "        \n",
       "            \n",
       "                var html_a42cc98988004a31a7dde4945e6d9ec5 = $(`&lt;div id=&quot;html_a42cc98988004a31a7dde4945e6d9ec5&quot; style=&quot;width: 100.0%; height: 100.0%;&quot;&gt;75003 Paris 3e&lt;/div&gt;`)[0];\n",
       "                popup_8643751f33284724ca21dcf18d080784.setContent(html_a42cc98988004a31a7dde4945e6d9ec5);\n",
       "            \n",
       "        \n",
       "\n",
       "        marker_9c699600a05de67b1d6fd2b8a87db546.bindPopup(popup_8643751f33284724ca21dcf18d080784)\n",
       "        ;\n",
       "\n",
       "        \n",
       "    \n",
       "    \n",
       "            var marker_683136664cb22ab861762142b86e7e5b = L.marker(\n",
       "                [48.8290105, 2.3636124],\n",
       "                {}\n",
       "            ).addTo(map_a5832de437e3d83ec11665eb3d45dfd1);\n",
       "        \n",
       "    \n",
       "            var icon_61cf693c63bb3265f1c4916adae73e5c = L.AwesomeMarkers.icon(\n",
       "                {&quot;extraClasses&quot;: &quot;fa-rotate-0&quot;, &quot;icon&quot;: &quot;info-sign&quot;, &quot;iconColor&quot;: &quot;white&quot;, &quot;markerColor&quot;: &quot;blue&quot;, &quot;prefix&quot;: &quot;glyphicon&quot;}\n",
       "            );\n",
       "            marker_683136664cb22ab861762142b86e7e5b.setIcon(icon_61cf693c63bb3265f1c4916adae73e5c);\n",
       "        \n",
       "    \n",
       "        var popup_ceba2880a9015a9f432273bb53de15e4 = L.popup({&quot;maxWidth&quot;: &quot;100%&quot;});\n",
       "\n",
       "        \n",
       "            \n",
       "                var html_588ca53a2ba3065a8fad200112eac1d4 = $(`&lt;div id=&quot;html_588ca53a2ba3065a8fad200112eac1d4&quot; style=&quot;width: 100.0%; height: 100.0%;&quot;&gt;75013 Paris 13e&lt;/div&gt;`)[0];\n",
       "                popup_ceba2880a9015a9f432273bb53de15e4.setContent(html_588ca53a2ba3065a8fad200112eac1d4);\n",
       "            \n",
       "        \n",
       "\n",
       "        marker_683136664cb22ab861762142b86e7e5b.bindPopup(popup_ceba2880a9015a9f432273bb53de15e4)\n",
       "        ;\n",
       "\n",
       "        \n",
       "    \n",
       "    \n",
       "            var marker_74333a9646e0656aa675376ff984deb1 = L.marker(\n",
       "                [48.876225, 2.3595209],\n",
       "                {}\n",
       "            ).addTo(map_a5832de437e3d83ec11665eb3d45dfd1);\n",
       "        \n",
       "    \n",
       "            var icon_6ea46f12469ae44db23917010ed2f9b6 = L.AwesomeMarkers.icon(\n",
       "                {&quot;extraClasses&quot;: &quot;fa-rotate-0&quot;, &quot;icon&quot;: &quot;info-sign&quot;, &quot;iconColor&quot;: &quot;white&quot;, &quot;markerColor&quot;: &quot;blue&quot;, &quot;prefix&quot;: &quot;glyphicon&quot;}\n",
       "            );\n",
       "            marker_74333a9646e0656aa675376ff984deb1.setIcon(icon_6ea46f12469ae44db23917010ed2f9b6);\n",
       "        \n",
       "    \n",
       "        var popup_d4fbab191a7551e45b541b4a2933ac82 = L.popup({&quot;maxWidth&quot;: &quot;100%&quot;});\n",
       "\n",
       "        \n",
       "            \n",
       "                var html_c0db2602d36adcb5b029f5dcbeb8459f = $(`&lt;div id=&quot;html_c0db2602d36adcb5b029f5dcbeb8459f&quot; style=&quot;width: 100.0%; height: 100.0%;&quot;&gt;75010 Paris 10e&lt;/div&gt;`)[0];\n",
       "                popup_d4fbab191a7551e45b541b4a2933ac82.setContent(html_c0db2602d36adcb5b029f5dcbeb8459f);\n",
       "            \n",
       "        \n",
       "\n",
       "        marker_74333a9646e0656aa675376ff984deb1.bindPopup(popup_d4fbab191a7551e45b541b4a2933ac82)\n",
       "        ;\n",
       "\n",
       "        \n",
       "    \n",
       "    \n",
       "            tile_layer_99258d4a0cff3b7650130779ade03e01.addTo(map_a5832de437e3d83ec11665eb3d45dfd1);\n",
       "        \n",
       "&lt;/script&gt;\n",
       "&lt;/html&gt;\" style=\"position:absolute;width:100%;height:100%;left:0;top:0;border:none !important;\" allowfullscreen webkitallowfullscreen mozallowfullscreen></iframe></div></div>"
      ],
      "text/plain": [
       "<folium.folium.Map at 0x7efdbe4bc260>"
      ]
     },
     "execution_count": 13,
     "metadata": {},
     "output_type": "execute_result"
    }
   ],
   "source": [
    "carte"
   ]
  },
  {
   "cell_type": "code",
   "execution_count": null,
   "metadata": {},
   "outputs": [],
   "source": []
  }
 ],
 "metadata": {
  "kernelspec": {
   "display_name": "base",
   "language": "python",
   "name": "python3"
  },
  "language_info": {
   "codemirror_mode": {
    "name": "ipython",
    "version": 3
   },
   "file_extension": ".py",
   "mimetype": "text/x-python",
   "name": "python",
   "nbconvert_exporter": "python",
   "pygments_lexer": "ipython3",
   "version": "3.12.7"
  }
 },
 "nbformat": 4,
 "nbformat_minor": 2
}
