{
 "cells": [
  {
   "cell_type": "markdown",
   "metadata": {},
   "source": [
    "# Estimation du prix d'un bien immobilier à Paris selon ses caractéristiques #"
   ]
  },
  {
   "cell_type": "markdown",
   "metadata": {},
   "source": [
    "## I. Introduction ##"
   ]
  },
  {
   "cell_type": "markdown",
   "metadata": {},
   "source": [
    "### Contexte du marché parisien ###"
   ]
  },
  {
   "cell_type": "markdown",
   "metadata": {},
   "source": [
    "La trajectoire des prix à Paris paraissait sans fin, après un doublement des prix en 10 ans, suivi d'une légère correction en 2015, le marché immobilier parisien a sans cesse cru jusqu'au premier trimestre 2023 où le prix au m2 a atteint son maximum historique : 10 310 €/m². Entre autres, cette hausse a été alimenté par des taux d'intêrets faibles sur les crédits immobiliers. de 2015 à 2019 la moyenne du taux d'intêret d'un crédit immobilier sur 20 ans était de 2.35% et entre 2020 et 2021 autour de 1.25%-1.5% (soutenu par les politiques économiques durant la pandémie de la COVID-19). Cependant, cette trajectoire a prix fin durant l'année 2023 avec une forte baisse du nombre de transaction (-23% year on year au T1 2024) et des prix (-7.9% year on year en juin 2024) pour atteindre 9 190 €/m². De toute évidence, la hausse des taux d’intérêts des banques centrales depuis 2022 a impacté le marché avec un certain décalage. D'un côté les taux de crédit immobilier ont connu une augmentation spectaculaire, passant de 1% en 2021 à plus de 4% fin 2023, et de l'autre, le Haut Conseil de Stabilité Financière a imposé des règles plus strictes d'octroi des prêts (taux d'endettement limité à 35% et durée d'emprunt plafonné à 25 ans). Cela a provoqué une chute de 43.4% du nombre de crédits accordés, impactant lourdement la demande immobilière à Paris. Bien que les taux ont re-commencé à baisser, le marché reste en baisse et s’essouffle comparativement aux autres métropoles européennes (Madrid, Lisbonne et Londres). Devant ce constat, de nombreux ménages font face au choix d'essayer de vendre aujourd'hui ou bien d'attendre que la tendance s'inverse. Ainsi, nous allons proposer dans ce projet, un modèle d'estimation du prix d'un bien immobilier à Paris en fonction de ses différentes caractéristiques."
   ]
  }
 ],
 "metadata": {
  "language_info": {
   "name": "python"
  }
 },
 "nbformat": 4,
 "nbformat_minor": 2
}
