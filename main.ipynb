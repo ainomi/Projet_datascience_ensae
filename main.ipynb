{
 "cells": [
  {
   "cell_type": "markdown",
   "metadata": {},
   "source": [
    "# Estimation du prix d'un bien immobilier à Paris selon ses caractéristiques #"
   ]
  },
  {
   "cell_type": "markdown",
   "metadata": {},
   "source": [
    "## Introduction ##"
   ]
  },
  {
   "cell_type": "markdown",
   "metadata": {},
   "source": [
    "### Contexte du marché parisien ###"
   ]
  },
  {
   "cell_type": "markdown",
   "metadata": {},
   "source": [
    "La trajectoire des prix immobiliers à Paris semblait inarrêtable. Après un doublement en dix ans, suivi d'une légère correction en 2015, le marché a atteint un sommet historique de 10 310 €/m² au premier trimestre 2023. Cette hausse s’explique notamment par des conditions de financement très favorables : entre 2015 et 2019, les taux d'intérêt moyens pour un crédit immobilier sur 20 ans étaient autour de 2,35 %, chutant à 1,25-1,5 % en 2020-2021 grâce aux politiques économiques liées à la COVID-19.\n",
    "Cependant, cette dynamique s'est inversée en 2023. Les transactions ont chuté de 23 % au premier trimestre 2024 (en glissement annuel), et les prix ont reculé de 7,9 % en juin 2024, atteignant 9 190 €/m². Cette baisse est liée à la forte hausse des taux d’intérêt, passés de 1 % en 2021 à plus de 4 % fin 2023, et au durcissement des règles d’octroi des prêts, limitant le taux d’endettement à 35 % et la durée des emprunts à 25 ans. Ces facteurs ont réduit la demande immobilière, laissant le marché parisien à la traîne par rapport à d’autres métropoles européennes comme Madrid ou Lisbonne.\n",
    "Dans ce contexte, de nombreux ménages s’interrogent : faut-il vendre maintenant ou attendre une reprise des prix ? Pour éclairer ces décisions, ce projet propose un modèle d’estimation des prix immobiliers à Paris. En analysant les principales caractéristiques influençant la valeur d’un bien, nous chercherons à mieux comprendre les dynamiques du marché et à fournir des outils d’aide à la décision."
   ]
  },
  {
   "cell_type": "markdown",
   "metadata": {},
   "source": [
    "## I. Prétraitement des données ##"
   ]
  },
  {
   "cell_type": "code",
   "execution_count": null,
   "metadata": {},
   "outputs": [],
   "source": []
  },
  {
   "cell_type": "markdown",
   "metadata": {},
   "source": [
    "## II. Statistiques descriptives ##"
   ]
  },
  {
   "cell_type": "code",
   "execution_count": null,
   "metadata": {},
   "outputs": [],
   "source": []
  },
  {
   "cell_type": "markdown",
   "metadata": {},
   "source": [
    "## III. Représentation graphique - Cartes ##"
   ]
  },
  {
   "cell_type": "code",
   "execution_count": null,
   "metadata": {},
   "outputs": [],
   "source": []
  },
  {
   "cell_type": "markdown",
   "metadata": {},
   "source": [
    "## IV. Modèle d'estimation ##"
   ]
  },
  {
   "cell_type": "code",
   "execution_count": null,
   "metadata": {},
   "outputs": [],
   "source": []
  },
  {
   "cell_type": "markdown",
   "metadata": {},
   "source": [
    "## Conclusion ##"
   ]
  }
 ],
 "metadata": {
  "kernelspec": {
   "display_name": "base",
   "language": "python",
   "name": "python3"
  },
  "language_info": {
   "name": "python",
   "version": "3.12.7"
  }
 },
 "nbformat": 4,
 "nbformat_minor": 2
}
