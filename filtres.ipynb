{
 "cells": [
  {
   "cell_type": "code",
   "execution_count": null,
   "metadata": {
    "vscode": {
     "languageId": "plaintext"
    }
   },
   "outputs": [],
   "source": [
    "\n",
    "prix_moyen_par_zone = listings.groupby('loc1')['prix du m2'].mean().reset_index() # on définit la moyenne du prix du m2 par zone\n",
    "prix_moyen_par_zone.rename(columns={'prix du m2': 'moyenne_prix_m2_par_loc1'}, inplace=True) # afin de faciliter le merge qui arrive\n",
    "\n",
    "listings = listings.merge(prix_moyen_par_zone, on='loc1', how='left') # on merge sur le dataframe initial pour avoir, pour chaque bien, la moyenne du prix du m2 de sa zone\n",
    "\n",
    "ratio_seuil = 0.6 # on choisit arbitrairement 60%\n",
    "\n",
    "listings['seuil_prix_m2'] = ratio_seuil * listings['moyenne_prix_m2_par_loc1'] # on calcule pour chaque bien (chaque zone) la valeur minimale du prix du m2 autorisée\n",
    "\n",
    "print(f\"Nombre de listings avec 'prix du m²' au moins {(1 - ratio_seuil)*100}% inférieur à la moyenne de leur loc1 : {listings[listings['prix du m2'] <= listings['seuil_prix_m2']].shape[0]}\")\n",
    "\n",
    "listings = listings[listings['prix du m2'] > listings['seuil_prix_m2']] # on conserve les biens qui ont un prix du m2 suffisant comparativement à leur zone\n",
    "\n",
    "listings.drop(['moyenne_prix_m2_par_loc1', 'seuil_prix_m2'], axis=1, inplace=True) # on supprime les colonnes temporaires pour améliorer la visibilité\n",
    "\n",
    "listings.loc[listings[\"prix du m2\"].idxmin()]\n",
    "\n",
    "listings = listings[listings['type'] != \"Loft/atelier/surface\"]\n",
    "listings = listings.drop(index = listings['prix du m2'].idxmax())\n",
    "listings = listings[listings['nb_pieces'] < 9]\n"
   ]
  }
 ],
 "metadata": {
  "language_info": {
   "name": "python"
  }
 },
 "nbformat": 4,
 "nbformat_minor": 2
}
